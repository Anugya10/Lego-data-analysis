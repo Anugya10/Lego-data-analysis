{
  "metadata": {
    "kernelspec": {
      "name": "python",
      "display_name": "Python (Pyodide)",
      "language": "python"
    },
    "language_info": {
      "codemirror_mode": {
        "name": "python",
        "version": 3
      },
      "file_extension": ".py",
      "mimetype": "text/x-python",
      "name": "python",
      "nbconvert_exporter": "python",
      "pygments_lexer": "ipython3",
      "version": "3.8"
    }
  },
  "nbformat_minor": 4,
  "nbformat": 4,
  "cells": [
    {
      "cell_type": "code",
      "source": "import pandas as pd",
      "metadata": {
        "trusted": true
      },
      "outputs": [],
      "execution_count": 1
    },
    {
      "cell_type": "code",
      "source": "df = pd.read_csv('lego_sets.csv')",
      "metadata": {
        "trusted": true
      },
      "outputs": [],
      "execution_count": 6
    },
    {
      "cell_type": "code",
      "source": "theme = pd.read_csv('parent_themes.csv')",
      "metadata": {
        "trusted": true
      },
      "outputs": [],
      "execution_count": 8
    },
    {
      "cell_type": "code",
      "source": "df.head(50)",
      "metadata": {
        "trusted": true
      },
      "outputs": [
        {
          "execution_count": 39,
          "output_type": "execute_result",
          "data": {
            "text/plain": "    set_num                                           name  year  num_parts  \\\n0      00-1                                Weetabix Castle  1970      471.0   \n1    0011-2                              Town Mini-Figures  1978        NaN   \n2    0011-3                     Castle 2 for 1 Bonus Offer  1987        NaN   \n3    0012-1                             Space Mini-Figures  1979       12.0   \n4    0013-1                             Space Mini-Figures  1979       12.0   \n5    0014-1                             Space Mini-Figures  1979       12.0   \n6    0015-1                             Space Mini-Figures  1979        NaN   \n7    0016-1                            Castle Mini Figures  1978        NaN   \n8      00-2                   Weetabix Promotional House 1  1976        NaN   \n9      00-3                   Weetabix Promotional House 2  1976        NaN   \n10     00-4                  Weetabix Promotional Windmill  1976      126.0   \n11    005-1                Basic Building Set in Cardboard  1965       35.0   \n12     00-6                                  Special Offer  1985        3.0   \n13     00-7              Weetabix Promotional Lego Village  1976        NaN   \n14    010-1                Basic Building Set in Cardboard  1965       57.0   \n15    010-3                             Basic Building Set  1968       77.0   \n16    011-1                             Basic Building Set  1968      145.0   \n17    022-1                             Basic Building Set  1968      110.0   \n18  03093-1                The Race to Build It Board Game  1999        NaN   \n19    033-2                             Basic Building Set  1968        NaN   \n20    044-1                             Basic Building Set  1968        NaN   \n21    055-2                             Basic Building Set  1968        NaN   \n22    066-1                             Basic Building Set  1968        NaN   \n23    080-1                  Basic Building Set with Train  1967      710.0   \n24    088-1                                      Super Set  1969      615.0   \n25  10000-1                                    Guarded Inn  2001      256.0   \n26  10001-1                                     Metroliner  2001        NaN   \n27  10002-1                              Railroad Club Car  2001      272.0   \n28  10003-1                          1 x 2 Sand Red Bricks  2001      100.0   \n29  10004-1                          2 x 2 Sand Red Bricks  2001      100.0   \n30  10005-1                          2 x 4 Sand Red Bricks  2001       50.0   \n31  10006-1                          1 x 6 Sand Red Bricks  2001       50.0   \n32  10007-1    2 x 4 Sand Red Ridge Roof Tiles Steep Slope  2001       25.0   \n33  10008-1                       2 x 4 Roof Tile Sand Red  2001       50.0   \n34  10009-1                           Assorted Blue Bricks  2001       62.0   \n35    100-1         4.5V Motor with Wheels (Small Version)  1966       16.0   \n36  10010-1                         Assorted Yellow Bricks  2003       63.0   \n37  10011-1                           Assorted Blue Plates  2001       42.0   \n38  10012-1                         Assorted Yellow Plates  2001        NaN   \n39  10013-1                             Open Freight Wagon  2001        NaN   \n40  10014-1                                        Caboose  2001      170.0   \n41  10015-1                                Passenger Wagon  2001      194.0   \n42  10016-1                                         Tanker  2001      128.0   \n43  10017-1                                   Hopper Wagon  2001      228.0   \n44  10018-1                                     Darth Maul  2001     1868.0   \n45  10019-1                    Rebel Blockade Runner - UCS  2001        NaN   \n46    100-2         4.5V Motor with Wheels (Large Version)  1966       27.0   \n47  10020-1  Santa Fe Super Chief, NOT the Limited Edition  2002        NaN   \n48  10020-2          Santa Fe Super Chief, Limited Edition  2002        NaN   \n49  10021-1                           U.S.S. Constellation  2003        NaN   \n\n                 theme_name            parent_theme  \n0                    Castle                Legoland  \n1              Supplemental                    Town  \n2              Lion Knights                  Castle  \n3              Supplemental                   Space  \n4              Supplemental                   Space  \n5              Supplemental                   Space  \n6              Supplemental                   Space  \n7                    Castle                  Castle  \n8                  Building                Legoland  \n9                  Building                Legoland  \n10                 Building                Legoland  \n11                Basic Set                 Classic  \n12             Classic Town                    Town  \n13                 Building                Legoland  \n14                Basic Set                 Classic  \n15                Basic Set                 Classic  \n16                Basic Set                 Classic  \n17                Basic Set                 Classic  \n18                     Game                    Gear  \n19                Basic Set                 Classic  \n20                Basic Set                 Classic  \n21                Basic Set                 Classic  \n22                Basic Set                 Classic  \n23                Basic Set                 Classic  \n24                Basic Set  Universal Building Set  \n25                   Castle                  Castle  \n26                    Train                   Train  \n27                    Train                   Train  \n28              Bulk Bricks             Bulk Bricks  \n29              Bulk Bricks             Bulk Bricks  \n30              Bulk Bricks             Bulk Bricks  \n31              Bulk Bricks             Bulk Bricks  \n32              Bulk Bricks             Bulk Bricks  \n33              Bulk Bricks             Bulk Bricks  \n34              Bulk Bricks             Bulk Bricks  \n35                     4.5V                   Train  \n36              Bulk Bricks             Bulk Bricks  \n37              Bulk Bricks             Bulk Bricks  \n38              Bulk Bricks             Bulk Bricks  \n39             My Own Train                   Train  \n40             My Own Train                   Train  \n41             My Own Train                   Train  \n42             My Own Train                   Train  \n43             My Own Train                   Train  \n44                Star Wars               Star Wars  \n45  Star Wars Episode 4/5/6               Star Wars  \n46                     4.5V                   Train  \n47                       9V                   Train  \n48                       9V                   Train  \n49               Hobby Sets              Hobby Sets  ",
            "text/html": "<div>\n<style scoped>\n    .dataframe tbody tr th:only-of-type {\n        vertical-align: middle;\n    }\n\n    .dataframe tbody tr th {\n        vertical-align: top;\n    }\n\n    .dataframe thead th {\n        text-align: right;\n    }\n</style>\n<table border=\"1\" class=\"dataframe\">\n  <thead>\n    <tr style=\"text-align: right;\">\n      <th></th>\n      <th>set_num</th>\n      <th>name</th>\n      <th>year</th>\n      <th>num_parts</th>\n      <th>theme_name</th>\n      <th>parent_theme</th>\n    </tr>\n  </thead>\n  <tbody>\n    <tr>\n      <th>0</th>\n      <td>00-1</td>\n      <td>Weetabix Castle</td>\n      <td>1970</td>\n      <td>471.0</td>\n      <td>Castle</td>\n      <td>Legoland</td>\n    </tr>\n    <tr>\n      <th>1</th>\n      <td>0011-2</td>\n      <td>Town Mini-Figures</td>\n      <td>1978</td>\n      <td>NaN</td>\n      <td>Supplemental</td>\n      <td>Town</td>\n    </tr>\n    <tr>\n      <th>2</th>\n      <td>0011-3</td>\n      <td>Castle 2 for 1 Bonus Offer</td>\n      <td>1987</td>\n      <td>NaN</td>\n      <td>Lion Knights</td>\n      <td>Castle</td>\n    </tr>\n    <tr>\n      <th>3</th>\n      <td>0012-1</td>\n      <td>Space Mini-Figures</td>\n      <td>1979</td>\n      <td>12.0</td>\n      <td>Supplemental</td>\n      <td>Space</td>\n    </tr>\n    <tr>\n      <th>4</th>\n      <td>0013-1</td>\n      <td>Space Mini-Figures</td>\n      <td>1979</td>\n      <td>12.0</td>\n      <td>Supplemental</td>\n      <td>Space</td>\n    </tr>\n    <tr>\n      <th>5</th>\n      <td>0014-1</td>\n      <td>Space Mini-Figures</td>\n      <td>1979</td>\n      <td>12.0</td>\n      <td>Supplemental</td>\n      <td>Space</td>\n    </tr>\n    <tr>\n      <th>6</th>\n      <td>0015-1</td>\n      <td>Space Mini-Figures</td>\n      <td>1979</td>\n      <td>NaN</td>\n      <td>Supplemental</td>\n      <td>Space</td>\n    </tr>\n    <tr>\n      <th>7</th>\n      <td>0016-1</td>\n      <td>Castle Mini Figures</td>\n      <td>1978</td>\n      <td>NaN</td>\n      <td>Castle</td>\n      <td>Castle</td>\n    </tr>\n    <tr>\n      <th>8</th>\n      <td>00-2</td>\n      <td>Weetabix Promotional House 1</td>\n      <td>1976</td>\n      <td>NaN</td>\n      <td>Building</td>\n      <td>Legoland</td>\n    </tr>\n    <tr>\n      <th>9</th>\n      <td>00-3</td>\n      <td>Weetabix Promotional House 2</td>\n      <td>1976</td>\n      <td>NaN</td>\n      <td>Building</td>\n      <td>Legoland</td>\n    </tr>\n    <tr>\n      <th>10</th>\n      <td>00-4</td>\n      <td>Weetabix Promotional Windmill</td>\n      <td>1976</td>\n      <td>126.0</td>\n      <td>Building</td>\n      <td>Legoland</td>\n    </tr>\n    <tr>\n      <th>11</th>\n      <td>005-1</td>\n      <td>Basic Building Set in Cardboard</td>\n      <td>1965</td>\n      <td>35.0</td>\n      <td>Basic Set</td>\n      <td>Classic</td>\n    </tr>\n    <tr>\n      <th>12</th>\n      <td>00-6</td>\n      <td>Special Offer</td>\n      <td>1985</td>\n      <td>3.0</td>\n      <td>Classic Town</td>\n      <td>Town</td>\n    </tr>\n    <tr>\n      <th>13</th>\n      <td>00-7</td>\n      <td>Weetabix Promotional Lego Village</td>\n      <td>1976</td>\n      <td>NaN</td>\n      <td>Building</td>\n      <td>Legoland</td>\n    </tr>\n    <tr>\n      <th>14</th>\n      <td>010-1</td>\n      <td>Basic Building Set in Cardboard</td>\n      <td>1965</td>\n      <td>57.0</td>\n      <td>Basic Set</td>\n      <td>Classic</td>\n    </tr>\n    <tr>\n      <th>15</th>\n      <td>010-3</td>\n      <td>Basic Building Set</td>\n      <td>1968</td>\n      <td>77.0</td>\n      <td>Basic Set</td>\n      <td>Classic</td>\n    </tr>\n    <tr>\n      <th>16</th>\n      <td>011-1</td>\n      <td>Basic Building Set</td>\n      <td>1968</td>\n      <td>145.0</td>\n      <td>Basic Set</td>\n      <td>Classic</td>\n    </tr>\n    <tr>\n      <th>17</th>\n      <td>022-1</td>\n      <td>Basic Building Set</td>\n      <td>1968</td>\n      <td>110.0</td>\n      <td>Basic Set</td>\n      <td>Classic</td>\n    </tr>\n    <tr>\n      <th>18</th>\n      <td>03093-1</td>\n      <td>The Race to Build It Board Game</td>\n      <td>1999</td>\n      <td>NaN</td>\n      <td>Game</td>\n      <td>Gear</td>\n    </tr>\n    <tr>\n      <th>19</th>\n      <td>033-2</td>\n      <td>Basic Building Set</td>\n      <td>1968</td>\n      <td>NaN</td>\n      <td>Basic Set</td>\n      <td>Classic</td>\n    </tr>\n    <tr>\n      <th>20</th>\n      <td>044-1</td>\n      <td>Basic Building Set</td>\n      <td>1968</td>\n      <td>NaN</td>\n      <td>Basic Set</td>\n      <td>Classic</td>\n    </tr>\n    <tr>\n      <th>21</th>\n      <td>055-2</td>\n      <td>Basic Building Set</td>\n      <td>1968</td>\n      <td>NaN</td>\n      <td>Basic Set</td>\n      <td>Classic</td>\n    </tr>\n    <tr>\n      <th>22</th>\n      <td>066-1</td>\n      <td>Basic Building Set</td>\n      <td>1968</td>\n      <td>NaN</td>\n      <td>Basic Set</td>\n      <td>Classic</td>\n    </tr>\n    <tr>\n      <th>23</th>\n      <td>080-1</td>\n      <td>Basic Building Set with Train</td>\n      <td>1967</td>\n      <td>710.0</td>\n      <td>Basic Set</td>\n      <td>Classic</td>\n    </tr>\n    <tr>\n      <th>24</th>\n      <td>088-1</td>\n      <td>Super Set</td>\n      <td>1969</td>\n      <td>615.0</td>\n      <td>Basic Set</td>\n      <td>Universal Building Set</td>\n    </tr>\n    <tr>\n      <th>25</th>\n      <td>10000-1</td>\n      <td>Guarded Inn</td>\n      <td>2001</td>\n      <td>256.0</td>\n      <td>Castle</td>\n      <td>Castle</td>\n    </tr>\n    <tr>\n      <th>26</th>\n      <td>10001-1</td>\n      <td>Metroliner</td>\n      <td>2001</td>\n      <td>NaN</td>\n      <td>Train</td>\n      <td>Train</td>\n    </tr>\n    <tr>\n      <th>27</th>\n      <td>10002-1</td>\n      <td>Railroad Club Car</td>\n      <td>2001</td>\n      <td>272.0</td>\n      <td>Train</td>\n      <td>Train</td>\n    </tr>\n    <tr>\n      <th>28</th>\n      <td>10003-1</td>\n      <td>1 x 2 Sand Red Bricks</td>\n      <td>2001</td>\n      <td>100.0</td>\n      <td>Bulk Bricks</td>\n      <td>Bulk Bricks</td>\n    </tr>\n    <tr>\n      <th>29</th>\n      <td>10004-1</td>\n      <td>2 x 2 Sand Red Bricks</td>\n      <td>2001</td>\n      <td>100.0</td>\n      <td>Bulk Bricks</td>\n      <td>Bulk Bricks</td>\n    </tr>\n    <tr>\n      <th>30</th>\n      <td>10005-1</td>\n      <td>2 x 4 Sand Red Bricks</td>\n      <td>2001</td>\n      <td>50.0</td>\n      <td>Bulk Bricks</td>\n      <td>Bulk Bricks</td>\n    </tr>\n    <tr>\n      <th>31</th>\n      <td>10006-1</td>\n      <td>1 x 6 Sand Red Bricks</td>\n      <td>2001</td>\n      <td>50.0</td>\n      <td>Bulk Bricks</td>\n      <td>Bulk Bricks</td>\n    </tr>\n    <tr>\n      <th>32</th>\n      <td>10007-1</td>\n      <td>2 x 4 Sand Red Ridge Roof Tiles Steep Slope</td>\n      <td>2001</td>\n      <td>25.0</td>\n      <td>Bulk Bricks</td>\n      <td>Bulk Bricks</td>\n    </tr>\n    <tr>\n      <th>33</th>\n      <td>10008-1</td>\n      <td>2 x 4 Roof Tile Sand Red</td>\n      <td>2001</td>\n      <td>50.0</td>\n      <td>Bulk Bricks</td>\n      <td>Bulk Bricks</td>\n    </tr>\n    <tr>\n      <th>34</th>\n      <td>10009-1</td>\n      <td>Assorted Blue Bricks</td>\n      <td>2001</td>\n      <td>62.0</td>\n      <td>Bulk Bricks</td>\n      <td>Bulk Bricks</td>\n    </tr>\n    <tr>\n      <th>35</th>\n      <td>100-1</td>\n      <td>4.5V Motor with Wheels (Small Version)</td>\n      <td>1966</td>\n      <td>16.0</td>\n      <td>4.5V</td>\n      <td>Train</td>\n    </tr>\n    <tr>\n      <th>36</th>\n      <td>10010-1</td>\n      <td>Assorted Yellow Bricks</td>\n      <td>2003</td>\n      <td>63.0</td>\n      <td>Bulk Bricks</td>\n      <td>Bulk Bricks</td>\n    </tr>\n    <tr>\n      <th>37</th>\n      <td>10011-1</td>\n      <td>Assorted Blue Plates</td>\n      <td>2001</td>\n      <td>42.0</td>\n      <td>Bulk Bricks</td>\n      <td>Bulk Bricks</td>\n    </tr>\n    <tr>\n      <th>38</th>\n      <td>10012-1</td>\n      <td>Assorted Yellow Plates</td>\n      <td>2001</td>\n      <td>NaN</td>\n      <td>Bulk Bricks</td>\n      <td>Bulk Bricks</td>\n    </tr>\n    <tr>\n      <th>39</th>\n      <td>10013-1</td>\n      <td>Open Freight Wagon</td>\n      <td>2001</td>\n      <td>NaN</td>\n      <td>My Own Train</td>\n      <td>Train</td>\n    </tr>\n    <tr>\n      <th>40</th>\n      <td>10014-1</td>\n      <td>Caboose</td>\n      <td>2001</td>\n      <td>170.0</td>\n      <td>My Own Train</td>\n      <td>Train</td>\n    </tr>\n    <tr>\n      <th>41</th>\n      <td>10015-1</td>\n      <td>Passenger Wagon</td>\n      <td>2001</td>\n      <td>194.0</td>\n      <td>My Own Train</td>\n      <td>Train</td>\n    </tr>\n    <tr>\n      <th>42</th>\n      <td>10016-1</td>\n      <td>Tanker</td>\n      <td>2001</td>\n      <td>128.0</td>\n      <td>My Own Train</td>\n      <td>Train</td>\n    </tr>\n    <tr>\n      <th>43</th>\n      <td>10017-1</td>\n      <td>Hopper Wagon</td>\n      <td>2001</td>\n      <td>228.0</td>\n      <td>My Own Train</td>\n      <td>Train</td>\n    </tr>\n    <tr>\n      <th>44</th>\n      <td>10018-1</td>\n      <td>Darth Maul</td>\n      <td>2001</td>\n      <td>1868.0</td>\n      <td>Star Wars</td>\n      <td>Star Wars</td>\n    </tr>\n    <tr>\n      <th>45</th>\n      <td>10019-1</td>\n      <td>Rebel Blockade Runner - UCS</td>\n      <td>2001</td>\n      <td>NaN</td>\n      <td>Star Wars Episode 4/5/6</td>\n      <td>Star Wars</td>\n    </tr>\n    <tr>\n      <th>46</th>\n      <td>100-2</td>\n      <td>4.5V Motor with Wheels (Large Version)</td>\n      <td>1966</td>\n      <td>27.0</td>\n      <td>4.5V</td>\n      <td>Train</td>\n    </tr>\n    <tr>\n      <th>47</th>\n      <td>10020-1</td>\n      <td>Santa Fe Super Chief, NOT the Limited Edition</td>\n      <td>2002</td>\n      <td>NaN</td>\n      <td>9V</td>\n      <td>Train</td>\n    </tr>\n    <tr>\n      <th>48</th>\n      <td>10020-2</td>\n      <td>Santa Fe Super Chief, Limited Edition</td>\n      <td>2002</td>\n      <td>NaN</td>\n      <td>9V</td>\n      <td>Train</td>\n    </tr>\n    <tr>\n      <th>49</th>\n      <td>10021-1</td>\n      <td>U.S.S. Constellation</td>\n      <td>2003</td>\n      <td>NaN</td>\n      <td>Hobby Sets</td>\n      <td>Hobby Sets</td>\n    </tr>\n  </tbody>\n</table>\n</div>"
          },
          "metadata": {}
        }
      ],
      "execution_count": 39
    },
    {
      "cell_type": "code",
      "source": "theme.head(10)",
      "metadata": {
        "trusted": true
      },
      "outputs": [
        {
          "execution_count": 12,
          "output_type": "execute_result",
          "data": {
            "text/plain": "    id               name  is_licensed\n0    1            Technic        False\n1   22            Creator        False\n2   50               Town        False\n3  112             Racers        False\n4  126              Space        False\n5  147            Pirates        False\n6  155  Modular Buildings        False\n7  158          Star Wars         True\n8  186             Castle        False\n9  204      Designer Sets        False",
            "text/html": "<div>\n<style scoped>\n    .dataframe tbody tr th:only-of-type {\n        vertical-align: middle;\n    }\n\n    .dataframe tbody tr th {\n        vertical-align: top;\n    }\n\n    .dataframe thead th {\n        text-align: right;\n    }\n</style>\n<table border=\"1\" class=\"dataframe\">\n  <thead>\n    <tr style=\"text-align: right;\">\n      <th></th>\n      <th>id</th>\n      <th>name</th>\n      <th>is_licensed</th>\n    </tr>\n  </thead>\n  <tbody>\n    <tr>\n      <th>0</th>\n      <td>1</td>\n      <td>Technic</td>\n      <td>False</td>\n    </tr>\n    <tr>\n      <th>1</th>\n      <td>22</td>\n      <td>Creator</td>\n      <td>False</td>\n    </tr>\n    <tr>\n      <th>2</th>\n      <td>50</td>\n      <td>Town</td>\n      <td>False</td>\n    </tr>\n    <tr>\n      <th>3</th>\n      <td>112</td>\n      <td>Racers</td>\n      <td>False</td>\n    </tr>\n    <tr>\n      <th>4</th>\n      <td>126</td>\n      <td>Space</td>\n      <td>False</td>\n    </tr>\n    <tr>\n      <th>5</th>\n      <td>147</td>\n      <td>Pirates</td>\n      <td>False</td>\n    </tr>\n    <tr>\n      <th>6</th>\n      <td>155</td>\n      <td>Modular Buildings</td>\n      <td>False</td>\n    </tr>\n    <tr>\n      <th>7</th>\n      <td>158</td>\n      <td>Star Wars</td>\n      <td>True</td>\n    </tr>\n    <tr>\n      <th>8</th>\n      <td>186</td>\n      <td>Castle</td>\n      <td>False</td>\n    </tr>\n    <tr>\n      <th>9</th>\n      <td>204</td>\n      <td>Designer Sets</td>\n      <td>False</td>\n    </tr>\n  </tbody>\n</table>\n</div>"
          },
          "metadata": {}
        }
      ],
      "execution_count": 12
    },
    {
      "cell_type": "markdown",
      "source": "### 1. What percentage of all licensed sets over released were Star Wars themed? Save you answer as a variable the_force in the form of an integer (e.g.25)",
      "metadata": {}
    },
    {
      "cell_type": "code",
      "source": "merger = df.merge(theme,left_on = 'parent_theme', right_on = 'name')\nmerger.drop(columns = 'name_y', inplace = True)\nmerger.head()",
      "metadata": {
        "trusted": true
      },
      "outputs": [
        {
          "execution_count": 30,
          "output_type": "execute_result",
          "data": {
            "text/plain": "  set_num                             name_x  year  num_parts theme_name  \\\n0    00-1                    Weetabix Castle  1970      471.0     Castle   \n1    00-2       Weetabix Promotional House 1  1976        NaN   Building   \n2    00-3       Weetabix Promotional House 2  1976        NaN   Building   \n3    00-4      Weetabix Promotional Windmill  1976      126.0   Building   \n4    00-7  Weetabix Promotional Lego Village  1976        NaN   Building   \n\n  parent_theme   id  is_licensed  \n0     Legoland  411        False  \n1     Legoland  411        False  \n2     Legoland  411        False  \n3     Legoland  411        False  \n4     Legoland  411        False  ",
            "text/html": "<div>\n<style scoped>\n    .dataframe tbody tr th:only-of-type {\n        vertical-align: middle;\n    }\n\n    .dataframe tbody tr th {\n        vertical-align: top;\n    }\n\n    .dataframe thead th {\n        text-align: right;\n    }\n</style>\n<table border=\"1\" class=\"dataframe\">\n  <thead>\n    <tr style=\"text-align: right;\">\n      <th></th>\n      <th>set_num</th>\n      <th>name_x</th>\n      <th>year</th>\n      <th>num_parts</th>\n      <th>theme_name</th>\n      <th>parent_theme</th>\n      <th>id</th>\n      <th>is_licensed</th>\n    </tr>\n  </thead>\n  <tbody>\n    <tr>\n      <th>0</th>\n      <td>00-1</td>\n      <td>Weetabix Castle</td>\n      <td>1970</td>\n      <td>471.0</td>\n      <td>Castle</td>\n      <td>Legoland</td>\n      <td>411</td>\n      <td>False</td>\n    </tr>\n    <tr>\n      <th>1</th>\n      <td>00-2</td>\n      <td>Weetabix Promotional House 1</td>\n      <td>1976</td>\n      <td>NaN</td>\n      <td>Building</td>\n      <td>Legoland</td>\n      <td>411</td>\n      <td>False</td>\n    </tr>\n    <tr>\n      <th>2</th>\n      <td>00-3</td>\n      <td>Weetabix Promotional House 2</td>\n      <td>1976</td>\n      <td>NaN</td>\n      <td>Building</td>\n      <td>Legoland</td>\n      <td>411</td>\n      <td>False</td>\n    </tr>\n    <tr>\n      <th>3</th>\n      <td>00-4</td>\n      <td>Weetabix Promotional Windmill</td>\n      <td>1976</td>\n      <td>126.0</td>\n      <td>Building</td>\n      <td>Legoland</td>\n      <td>411</td>\n      <td>False</td>\n    </tr>\n    <tr>\n      <th>4</th>\n      <td>00-7</td>\n      <td>Weetabix Promotional Lego Village</td>\n      <td>1976</td>\n      <td>NaN</td>\n      <td>Building</td>\n      <td>Legoland</td>\n      <td>411</td>\n      <td>False</td>\n    </tr>\n  </tbody>\n</table>\n</div>"
          },
          "metadata": {}
        }
      ],
      "execution_count": 30
    },
    {
      "cell_type": "code",
      "source": "merger[merger['set_num'].isnull()].shape",
      "metadata": {
        "trusted": true
      },
      "outputs": [
        {
          "execution_count": 33,
          "output_type": "execute_result",
          "data": {
            "text/plain": "(153, 8)"
          },
          "metadata": {}
        }
      ],
      "execution_count": 33
    },
    {
      "cell_type": "code",
      "source": "licensed = merger[merger['is_licensed']]\nlicensed = licensed.dropna(subset = ['set_num'])\nlicensed.head()\n\nStar_wars = licensed[licensed['parent_theme']=='Star Wars']\nStar_wars.head(20)\n\nthe_force = int(Star_wars.shape[0]/licensed.shape[0]*100)\nprint(the_force)",
      "metadata": {
        "trusted": true
      },
      "outputs": [
        {
          "name": "stdout",
          "text": "51\n",
          "output_type": "stream"
        }
      ],
      "execution_count": 40
    },
    {
      "cell_type": "markdown",
      "source": "### 2.In which year was Star Wars not the most popular licensed theme (in terms of number of sets released that year)? Save your answer as a variable new_era in the form of an integer (e.g.2012)\n",
      "metadata": {}
    },
    {
      "cell_type": "code",
      "source": "licensed_sorted = licensed.sort_values('year')\nlicensed_sorted['count'] = 1\n\nsummed_df = licensed_sorted.groupby(['year', 'parent_theme']).sum().reset_index()\n\nmax_df = summed_df.sort_values('count', ascending = False).drop_duplicates(['year'])\n\nmax_df.sort_values('year', inplace = True)\nmax_df",
      "metadata": {
        "trusted": true
      },
      "outputs": [
        {
          "name": "stderr",
          "text": "<ipython-input-43-c28f2722303a>:4: FutureWarning: The default value of numeric_only in DataFrameGroupBy.sum is deprecated. In a future version, numeric_only will default to False. Either specify numeric_only or select only columns which should be valid for the function.\n  summed_df = licensed_sorted.groupby(['year', 'parent_theme']).sum().reset_index()\n",
          "output_type": "stream"
        },
        {
          "execution_count": 43,
          "output_type": "execute_result",
          "data": {
            "text/plain": "    year  parent_theme  num_parts     id  is_licensed  count\n0   1999     Star Wars     1384.0   2054           13     13\n2   2000     Star Wars     2580.0   4108           26     26\n4   2001     Star Wars     2949.0   2212           14     14\n6   2002     Star Wars     4735.0   4424           28     28\n9   2003     Star Wars     6660.0   5056           32     32\n12  2004     Star Wars     1659.0   3160           20     20\n16  2005     Star Wars     4730.0   4424           28     28\n20  2006     Star Wars     2769.0   1738           11     11\n24  2007     Star Wars    11361.0   2528           16     16\n28  2008     Star Wars     6865.0   3634           23     23\n32  2009     Star Wars     3953.0   6162           39     39\n36  2010     Star Wars     6003.0   4740           30     30\n42  2011     Star Wars     3451.0   5056           32     32\n47  2012     Star Wars     6769.0   6794           43     43\n52  2013     Star Wars     6159.0   5530           35     35\n59  2014     Star Wars     8293.0   7110           45     45\n67  2015     Star Wars    11410.0   9164           58     58\n76  2016     Star Wars     6934.0   9638           61     61\n82  2017  Super Heroes    13123.0  34704           72     72",
            "text/html": "<div>\n<style scoped>\n    .dataframe tbody tr th:only-of-type {\n        vertical-align: middle;\n    }\n\n    .dataframe tbody tr th {\n        vertical-align: top;\n    }\n\n    .dataframe thead th {\n        text-align: right;\n    }\n</style>\n<table border=\"1\" class=\"dataframe\">\n  <thead>\n    <tr style=\"text-align: right;\">\n      <th></th>\n      <th>year</th>\n      <th>parent_theme</th>\n      <th>num_parts</th>\n      <th>id</th>\n      <th>is_licensed</th>\n      <th>count</th>\n    </tr>\n  </thead>\n  <tbody>\n    <tr>\n      <th>0</th>\n      <td>1999</td>\n      <td>Star Wars</td>\n      <td>1384.0</td>\n      <td>2054</td>\n      <td>13</td>\n      <td>13</td>\n    </tr>\n    <tr>\n      <th>2</th>\n      <td>2000</td>\n      <td>Star Wars</td>\n      <td>2580.0</td>\n      <td>4108</td>\n      <td>26</td>\n      <td>26</td>\n    </tr>\n    <tr>\n      <th>4</th>\n      <td>2001</td>\n      <td>Star Wars</td>\n      <td>2949.0</td>\n      <td>2212</td>\n      <td>14</td>\n      <td>14</td>\n    </tr>\n    <tr>\n      <th>6</th>\n      <td>2002</td>\n      <td>Star Wars</td>\n      <td>4735.0</td>\n      <td>4424</td>\n      <td>28</td>\n      <td>28</td>\n    </tr>\n    <tr>\n      <th>9</th>\n      <td>2003</td>\n      <td>Star Wars</td>\n      <td>6660.0</td>\n      <td>5056</td>\n      <td>32</td>\n      <td>32</td>\n    </tr>\n    <tr>\n      <th>12</th>\n      <td>2004</td>\n      <td>Star Wars</td>\n      <td>1659.0</td>\n      <td>3160</td>\n      <td>20</td>\n      <td>20</td>\n    </tr>\n    <tr>\n      <th>16</th>\n      <td>2005</td>\n      <td>Star Wars</td>\n      <td>4730.0</td>\n      <td>4424</td>\n      <td>28</td>\n      <td>28</td>\n    </tr>\n    <tr>\n      <th>20</th>\n      <td>2006</td>\n      <td>Star Wars</td>\n      <td>2769.0</td>\n      <td>1738</td>\n      <td>11</td>\n      <td>11</td>\n    </tr>\n    <tr>\n      <th>24</th>\n      <td>2007</td>\n      <td>Star Wars</td>\n      <td>11361.0</td>\n      <td>2528</td>\n      <td>16</td>\n      <td>16</td>\n    </tr>\n    <tr>\n      <th>28</th>\n      <td>2008</td>\n      <td>Star Wars</td>\n      <td>6865.0</td>\n      <td>3634</td>\n      <td>23</td>\n      <td>23</td>\n    </tr>\n    <tr>\n      <th>32</th>\n      <td>2009</td>\n      <td>Star Wars</td>\n      <td>3953.0</td>\n      <td>6162</td>\n      <td>39</td>\n      <td>39</td>\n    </tr>\n    <tr>\n      <th>36</th>\n      <td>2010</td>\n      <td>Star Wars</td>\n      <td>6003.0</td>\n      <td>4740</td>\n      <td>30</td>\n      <td>30</td>\n    </tr>\n    <tr>\n      <th>42</th>\n      <td>2011</td>\n      <td>Star Wars</td>\n      <td>3451.0</td>\n      <td>5056</td>\n      <td>32</td>\n      <td>32</td>\n    </tr>\n    <tr>\n      <th>47</th>\n      <td>2012</td>\n      <td>Star Wars</td>\n      <td>6769.0</td>\n      <td>6794</td>\n      <td>43</td>\n      <td>43</td>\n    </tr>\n    <tr>\n      <th>52</th>\n      <td>2013</td>\n      <td>Star Wars</td>\n      <td>6159.0</td>\n      <td>5530</td>\n      <td>35</td>\n      <td>35</td>\n    </tr>\n    <tr>\n      <th>59</th>\n      <td>2014</td>\n      <td>Star Wars</td>\n      <td>8293.0</td>\n      <td>7110</td>\n      <td>45</td>\n      <td>45</td>\n    </tr>\n    <tr>\n      <th>67</th>\n      <td>2015</td>\n      <td>Star Wars</td>\n      <td>11410.0</td>\n      <td>9164</td>\n      <td>58</td>\n      <td>58</td>\n    </tr>\n    <tr>\n      <th>76</th>\n      <td>2016</td>\n      <td>Star Wars</td>\n      <td>6934.0</td>\n      <td>9638</td>\n      <td>61</td>\n      <td>61</td>\n    </tr>\n    <tr>\n      <th>82</th>\n      <td>2017</td>\n      <td>Super Heroes</td>\n      <td>13123.0</td>\n      <td>34704</td>\n      <td>72</td>\n      <td>72</td>\n    </tr>\n  </tbody>\n</table>\n</div>"
          },
          "metadata": {}
        }
      ],
      "execution_count": 43
    },
    {
      "cell_type": "code",
      "source": "new_era = 2017",
      "metadata": {
        "trusted": true
      },
      "outputs": [],
      "execution_count": 45
    },
    {
      "cell_type": "markdown",
      "source": "### Break down number of sets by year ",
      "metadata": {}
    },
    {
      "cell_type": "code",
      "source": "clean_df = merger[~merger['set_num'].isnull()]\nclean_df['count'] = 1\nsets_per_year = clean_df.groupby(['year']).sum().reset_index()[['year','count']]\n\nfor index, row in sets_per_year.iterrows():\n    print(row['year'],row['count'])",
      "metadata": {
        "trusted": true
      },
      "outputs": [
        {
          "name": "stderr",
          "text": "<ipython-input-48-e84a68ad3d1f>:2: SettingWithCopyWarning: \nA value is trying to be set on a copy of a slice from a DataFrame.\nTry using .loc[row_indexer,col_indexer] = value instead\n\nSee the caveats in the documentation: https://pandas.pydata.org/pandas-docs/stable/user_guide/indexing.html#returning-a-view-versus-a-copy\n  clean_df['count'] = 1\n<ipython-input-48-e84a68ad3d1f>:3: FutureWarning: The default value of numeric_only in DataFrameGroupBy.sum is deprecated. In a future version, numeric_only will default to False. Either specify numeric_only or select only columns which should be valid for the function.\n  sets_per_year = clean_df.groupby(['year']).sum().reset_index()[['year','count']]\n",
          "output_type": "stream"
        },
        {
          "name": "stdout",
          "text": "1950 7\n1953 4\n1954 14\n1955 28\n1956 12\n1957 21\n1958 42\n1959 4\n1960 3\n1961 17\n1962 40\n1963 18\n1964 11\n1965 10\n1966 89\n1967 21\n1968 25\n1969 69\n1970 29\n1971 45\n1972 38\n1973 68\n1974 39\n1975 31\n1976 68\n1977 92\n1978 73\n1979 82\n1980 88\n1981 79\n1982 76\n1983 57\n1984 76\n1985 139\n1986 123\n1987 209\n1988 68\n1989 114\n1990 85\n1991 106\n1992 115\n1993 111\n1994 128\n1995 128\n1996 144\n1997 194\n1998 325\n1999 300\n2000 327\n2001 339\n2002 447\n2003 415\n2004 371\n2005 330\n2006 283\n2007 319\n2008 349\n2009 403\n2010 444\n2011 502\n2012 615\n2013 593\n2014 715\n2015 670\n2016 608\n2017 438\n",
          "output_type": "stream"
        }
      ],
      "execution_count": 48
    }
  ]
}